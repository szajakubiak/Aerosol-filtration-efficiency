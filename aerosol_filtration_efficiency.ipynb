{
 "cells": [
  {
   "cell_type": "code",
   "execution_count": 1,
   "metadata": {
    "scrolled": false
   },
   "outputs": [],
   "source": [
    "from math import exp, pi, log\n",
    "import matplotlib.pyplot as plt\n",
    "from graph_options import *"
   ]
  },
  {
   "cell_type": "markdown",
   "metadata": {},
   "source": [
    "# 1. Constants"
   ]
  },
  {
   "cell_type": "code",
   "execution_count": 2,
   "metadata": {},
   "outputs": [],
   "source": [
    "boltzman_const = 1.38 * 10**-23   # in J/K"
   ]
  },
  {
   "cell_type": "markdown",
   "metadata": {},
   "source": [
    "\n",
    "# 2. Diffusion"
   ]
  },
  {
   "cell_type": "markdown",
   "metadata": {},
   "source": [
    "## 2.1. Air dynamic viscosity\n",
    "\n",
    "\\begin{align}\n",
    "\\mu_g = 4.72 \\times 10^{-8}\\ T + 4.40 \\times 10^{-6}\n",
    "\\end{align}"
   ]
  },
  {
   "cell_type": "code",
   "execution_count": 3,
   "metadata": {
    "scrolled": false
   },
   "outputs": [],
   "source": [
    "def dynamic_viscosity(temp):\n",
    "    \"\"\"Returns value of air dynamic viscosity in kg/m*s.\n",
    "    Expects value of air temperature in Kelvin grade.\"\"\"\n",
    "    \n",
    "    value = (4.72 * 10**-8) * temp + 4.40 * 10**-6   # in kg/m*s\n",
    "    return value"
   ]
  },
  {
   "cell_type": "markdown",
   "metadata": {},
   "source": [
    "## 2.2. Mean free path of air molecules\n",
    "\n",
    "\\begin{align}\n",
    "\\lambda = \\frac{2.15 \\times 10^{-4}\\ \\mu_g\\ T^{\\frac{1}{2}}}{P \\times 10^{-5}}\n",
    "\\end{align}"
   ]
  },
  {
   "cell_type": "code",
   "execution_count": 4,
   "metadata": {
    "scrolled": false
   },
   "outputs": [],
   "source": [
    "def mean_free_path(temp, pres):\n",
    "    \"\"\"Returns value of air molecules mean free path.\n",
    "    Expects values of temperaute in K and pressure in Pa.\"\"\"\n",
    "    \n",
    "    viscosity_val = dynamic_viscosity(temp)\n",
    "    \n",
    "    value = (2.15 * 10**-4 * viscosity_val * temp**0.5) / (pres * 10**-5)\n",
    "    return value"
   ]
  },
  {
   "cell_type": "markdown",
   "metadata": {},
   "source": [
    "## 2.3. Knudsen number\n",
    "\n",
    "\\begin{align}\n",
    "Kn = \\frac{2\\ \\lambda}{d}\n",
    "\\end{align}"
   ]
  },
  {
   "cell_type": "code",
   "execution_count": 5,
   "metadata": {
    "scrolled": false
   },
   "outputs": [],
   "source": [
    "def Kn(temp, pres, diam):\n",
    "    \"\"\"Return value of Knudsen number.\n",
    "    Expects values of temperaute in K, pressure in Pa and diameter in m.\"\"\"\n",
    "    \n",
    "    value = 2 * mean_free_path(temp, pres) / diam\n",
    "    return value"
   ]
  },
  {
   "cell_type": "markdown",
   "metadata": {},
   "source": [
    "## 2.4. Cunningham slip correction factor\n",
    "\n",
    "\\begin{align}\n",
    "C_c = 1 + 1.257\\ Kn_p + 0.4\\ Kn_p\\ exp\\Bigl(\\frac{-0.55}{Kn_p}\\Bigr)\n",
    "\\end{align}"
   ]
  },
  {
   "cell_type": "code",
   "execution_count": 6,
   "metadata": {
    "scrolled": false
   },
   "outputs": [],
   "source": [
    "def Cunningham_slip(temp, pres, part_diam):\n",
    "    \"\"\"Returns value of Cunningham slip correction factor.\n",
    "    Expects  values of temperaute in K, pressure in Pa\n",
    "    and particle diameter in m.\"\"\"\n",
    "    \n",
    "    Kn_val = Kn(temp, pres, part_diam)\n",
    "    \n",
    "    value = (1 + 1.257 * Kn_val + 0.4 * Kn_val * exp(-0.55 / Kn_val))\n",
    "    return value"
   ]
  },
  {
   "cell_type": "markdown",
   "metadata": {},
   "source": [
    "## 2.5. Diffusion coefficient\n",
    "\n",
    "\\begin{align}\n",
    "D = \\frac{k_B\\ T\\ C_c}{3\\ \\pi\\ \\mu_g\\ d_p}\n",
    "\\end{align}"
   ]
  },
  {
   "cell_type": "code",
   "execution_count": 7,
   "metadata": {
    "scrolled": false
   },
   "outputs": [],
   "source": [
    "def diffusion(temp, pres, part_diam):\n",
    "    \"\"\"Returns value of diffusion coefficient.\n",
    "    Expects  values of temperaute in K, pressure in Pa\n",
    "    and particle diameter in m.\"\"\"\n",
    "    \n",
    "    viscosity_val = dynamic_viscosity(temp)\n",
    "    Cunningham_val = Cunningham_slip(temp, pres, part_diam)\n",
    "    \n",
    "    value = ((boltzman_const * temp * Cunningham_val) / (3 * pi * viscosity_val * part_diam))\n",
    "    return value"
   ]
  },
  {
   "cell_type": "markdown",
   "metadata": {},
   "source": [
    "## 2.6. Peclet number\n",
    "\n",
    "\\begin{align}\n",
    "Pe = \\frac{U_g\\ d_f}{D}\n",
    "\\end{align}"
   ]
  },
  {
   "cell_type": "code",
   "execution_count": 8,
   "metadata": {
    "scrolled": false
   },
   "outputs": [],
   "source": [
    "def Pe(temp, pres, part_diam, fibr_diam, gas_velo):\n",
    "    \"\"\"Returns value of Peclet number.\n",
    "    Expects  values of temperaute in K, pressure in Pa,\n",
    "    particle diameter in m, mean fibre diameter in m\n",
    "    and gas velocity in m/s.\"\"\"\n",
    "    \n",
    "    diffusion_val = diffusion(temp, pres, part_diam)\n",
    "    \n",
    "    value = gas_velo * fibr_diam / diffusion_val\n",
    "    return value"
   ]
  },
  {
   "cell_type": "markdown",
   "metadata": {},
   "source": [
    "## 2.7. Kuwabara number\n",
    "\n",
    "\\begin{align}\n",
    "Ku = \\frac{-ln(\\alpha)}{2}-\\frac{3}{4}+\\alpha-\\frac{\\alpha^2}{4}\n",
    "\\end{align}"
   ]
  },
  {
   "cell_type": "code",
   "execution_count": 9,
   "metadata": {
    "scrolled": false
   },
   "outputs": [],
   "source": [
    "def Ku(pack_dens):\n",
    "    \"\"\"Returns value of Kuwabara number.\n",
    "    Expects value of filter packing density.\"\"\"\n",
    "    \n",
    "    value = (-log(pack_dens) / 2) - (3 / 4) + pack_dens - ((pack_dens**2) / 4)\n",
    "    return value"
   ]
  },
  {
   "cell_type": "markdown",
   "metadata": {},
   "source": [
    "## 2.8. Slip flow correction factor\n",
    "\n",
    "\\begin{align}\n",
    "C_D = 1 + 0.388\\ Kn_f\\ \\Bigl( \\frac{(1-\\alpha)\\ Pe}{Ku} \\Bigr)^{\\frac{1}{3}}\n",
    "\\end{align}"
   ]
  },
  {
   "cell_type": "code",
   "execution_count": 10,
   "metadata": {
    "scrolled": false
   },
   "outputs": [],
   "source": [
    "def slip_flow_corr_dif(temp, pres, part_diam, fibr_diam, gas_velo, pack_dens):\n",
    "    \"\"\"Returns value of slip flow correction factor.\n",
    "    Expects  values of temperaute in K, pressure in Pa,\n",
    "    particle diameter in m, mean fibre diameter in m\n",
    "    gas velocity in m/s and filter packing density.\"\"\"\n",
    "    \n",
    "    Kn_val = Kn(temp, pres, fibr_diam)\n",
    "    Pe_val = Pe(temp, pres, part_diam, fibr_diam, gas_velo)\n",
    "    Ku_val = Ku(pack_dens)\n",
    "    \n",
    "    value = 1 + 0.388 * Kn_val * ((1 - pack_dens) * Pe_val / Ku_val)**(1/3)\n",
    "    return value"
   ]
  },
  {
   "cell_type": "markdown",
   "metadata": {},
   "source": [
    "## 2.9. Diffusion efficiency\n",
    "\n",
    "\\begin{align}\n",
    "E_D = \\frac{1.6\\ \\Bigl( \\frac{(1-\\alpha)}{Ku} \\Bigr)^{\\frac{1}{3}}\\ Pe^{-\\frac{2}{3}}\\ C_D}{1 + 1.6\\ \\Bigl( \\frac{(1-\\alpha)}{Ku} \\Bigr)^{\\frac{1}{3}}\\ Pe^{-\\frac{2}{3}}\\ C_D}\n",
    "\\end{align}"
   ]
  },
  {
   "cell_type": "code",
   "execution_count": 11,
   "metadata": {
    "scrolled": false
   },
   "outputs": [],
   "source": [
    "def diffusion_efficiency(temp, pres, part_diam, fibr_diam, gas_velo, pack_dens):\n",
    "    \"\"\"Returns value of filtration efficiency due to\n",
    "    the diffusion mechanism.\n",
    "    Expects  values of temperaute in K, pressure in Pa,\n",
    "    particle diameter in m, mean fibre diameter in m\n",
    "    gas velocity in m/s and filter packing density.\"\"\"\n",
    "    \n",
    "    Ku_val = Ku(pack_dens)\n",
    "    Pe_val = Pe(temp, pres, part_diam, fibr_diam, gas_velo)\n",
    "    slip_corr_val = slip_flow_corr_dif(temp, pres, part_diam, fibr_diam, gas_velo, pack_dens)\n",
    "    \n",
    "    numerator = ((1.6 * ((1 - pack_dens) / Ku_val)**(1/3)) * (Pe_val**(-2/3)) * slip_corr_val)\n",
    "    denominator = 1 + numerator\n",
    "    value = numerator / denominator\n",
    "    return value"
   ]
  },
  {
   "cell_type": "markdown",
   "metadata": {},
   "source": [
    "\n",
    "# 3. Direct interception"
   ]
  },
  {
   "cell_type": "markdown",
   "metadata": {},
   "source": [
    "## 3.1. Interception parameter\n",
    "\n",
    "\\begin{align}\n",
    "R = \\frac{d_p}{d_f}\n",
    "\\end{align}"
   ]
  },
  {
   "cell_type": "code",
   "execution_count": 12,
   "metadata": {
    "scrolled": false
   },
   "outputs": [],
   "source": [
    "def interception_param(part_diam, fibr_diam):\n",
    "    \"\"\"Returns value of interception parameter.\n",
    "    Expects values of particle diameter in m\n",
    "    and mean fibre diameter in m.\"\"\"\n",
    "    \n",
    "    value = part_diam / fibr_diam\n",
    "    return value"
   ]
  },
  {
   "cell_type": "markdown",
   "metadata": {},
   "source": [
    "## 3.2. Slip flow correction factor\n",
    "\n",
    "\\begin{align}\n",
    "C_{R} = 1 + \\frac{1.996\\ Kn_f}{R}\n",
    "\\end{align}"
   ]
  },
  {
   "cell_type": "code",
   "execution_count": 13,
   "metadata": {
    "scrolled": false
   },
   "outputs": [],
   "source": [
    "def slip_flow_corr_int(temp, pres, part_diam, fibr_diam):\n",
    "    \"\"\"Returns value of slip correction factor.\n",
    "    Expects  values of temperaute in K, pressure in Pa,\n",
    "    particle diameter in m and mean fibre diameter in m.\"\"\"\n",
    "    \n",
    "    Kn_val = Kn(temp, pres, fibr_diam)\n",
    "    R_val = interception_param(part_diam, fibr_diam)\n",
    "    \n",
    "    value = 1 + ((1.996 * Kn_val) / R_val)\n",
    "    return value"
   ]
  },
  {
   "cell_type": "markdown",
   "metadata": {},
   "source": [
    "## 3.3. Interception efficiency\n",
    "\n",
    "\\begin{align}\n",
    "E_{R} = 0.6\\ \\Bigl(\\frac{1-\\alpha}{Ku}\\Bigr)\\ \\Bigl(\\frac{R^2}{1+R}\\Bigr)\\ C_{R}\n",
    "\\end{align}"
   ]
  },
  {
   "cell_type": "code",
   "execution_count": 14,
   "metadata": {
    "scrolled": false
   },
   "outputs": [],
   "source": [
    "def interception_efficiency(temp, pres, part_diam, fibr_diam, pack_dens):\n",
    "    \"\"\"Returns value of filtration efficiency due to\n",
    "    the interception mechanism.\n",
    "    Expects  values of temperaute in K, pressure in Pa,\n",
    "    particle diameter in m, mean fibre diameter in m\n",
    "    and filter packing density.\"\"\"\n",
    "    \n",
    "    Ku_val = Ku(pack_dens)\n",
    "    R_val = interception_param(part_diam, fibr_diam)\n",
    "    C_val = slip_flow_corr_int(temp, pres, part_diam, fibr_diam)\n",
    "    \n",
    "    value = 0.6 * ((1 - pack_dens) / Ku_val) * (R_val**2 / (1 + R_val)) * C_val\n",
    "    return value"
   ]
  },
  {
   "cell_type": "markdown",
   "metadata": {},
   "source": [
    "\n",
    "# 4. Single fibre efficiency\n",
    "\n",
    "\\begin{align}\n",
    "E = 1 - (1 - k_1 E_D)(1 - k_2 E_{R})\n",
    "\\end{align}"
   ]
  },
  {
   "cell_type": "code",
   "execution_count": 15,
   "metadata": {
    "scrolled": false
   },
   "outputs": [],
   "source": [
    "def fibre_efficiency(temp, pres, part_diam, fibr_diam, gas_velo, pack_dens, shape_const):\n",
    "    \"\"\"Returns single fibre filtration efficiency.\n",
    "    Expects  values of temperaute in K, pressure in Pa,\n",
    "    particle diameter in m, mean fibre diameter in m\n",
    "    gas velocity in m/s, filter packing density\n",
    "    and tuple with two shape-related, dimensionless constants.\"\"\"\n",
    "    \n",
    "    difu_effi_val = shape_const[0] * diffusion_efficiency(temp, pres, part_diam, fibr_diam, gas_velo, pack_dens)\n",
    "    inte_effi_val = shape_const[1] * interception_efficiency(temp, pres, part_diam, fibr_diam, pack_dens)\n",
    "    \n",
    "    value = 1 - (1 - difu_effi_val) * (1 - inte_effi_val)\n",
    "    return value"
   ]
  },
  {
   "cell_type": "markdown",
   "metadata": {},
   "source": [
    "\n",
    "# 5. Filtration efficiency\n",
    "\n",
    "\\begin{align}\n",
    "\\eta = 1 - exp\\Bigl( \\frac{-4\\ \\alpha\\ E\\ L}{\\pi\\ d_f\\ (1 - \\alpha)} \\Bigr)\n",
    "\\end{align}"
   ]
  },
  {
   "cell_type": "code",
   "execution_count": 16,
   "metadata": {
    "scrolled": false
   },
   "outputs": [],
   "source": [
    "def efficiency(temp, pres, part_diam, fibr_diam, gas_velo, pack_dens, filt_thic, shape_const):\n",
    "    \"\"\"Returns single fibre filtration efficiency.\n",
    "    Expects  values of temperaute in K, pressure in Pa,\n",
    "    particle diameter in m, mean fibre diameter in m\n",
    "    gas velocity in m/s, filter packing density, filter thickness in m\n",
    "    and tuple with two shape-related dimensionless constants.\"\"\"\n",
    "    \n",
    "    fibr_effi_val = fibre_efficiency(temp, pres, part_diam, fibr_diam, gas_velo, pack_dens, shape_const)\n",
    "    \n",
    "    value = 1 - exp((-4 * pack_dens * fibr_effi_val * filt_thic) / (pi * fibr_diam * (1 - pack_dens)))\n",
    "    return value"
   ]
  },
  {
   "cell_type": "markdown",
   "metadata": {},
   "source": [
    "# 6. Run experiments"
   ]
  },
  {
   "cell_type": "markdown",
   "metadata": {},
   "source": [
    "## 6.1. Particle sizes"
   ]
  },
  {
   "cell_type": "code",
   "execution_count": 17,
   "metadata": {},
   "outputs": [],
   "source": [
    "particles_liquid = [15, 20, 30, 45, 70, 100, 150, 250]   # in nm\n",
    "particles_solid = [20, 30, 45, 70, 100]   # in nm"
   ]
  },
  {
   "cell_type": "markdown",
   "metadata": {},
   "source": [
    "## 6.2. Particle morphology\n",
    "Two dimensionless constants which depends on the particle shape:\n",
    "  * ratio of the actual particle surface area and surface area of volume equivalent spherical particle\n",
    "  * ratio of the projected area of particle and projected area of volume equivalent spherical particle\n",
    "\n",
    "For spherical particles both constants are equal to 1."
   ]
  },
  {
   "cell_type": "code",
   "execution_count": 18,
   "metadata": {},
   "outputs": [],
   "source": [
    "particles_morph_spherical = {15 : (1, 1), 20 : (1, 1), 30 : (1, 1), 45 : (1, 1), 70 : (1, 1),\n",
    "                    100 : (1, 1), 150 : (1, 1),  250: (1, 1)}\n",
    "particles_morph_agglomerates = {20 : (1.029, 0.893), 30 : (1.095, 1.473), 45 : (1.238, 1.967), 70 : (1.699, 3.080),\n",
    "                    100 : (2.038, 3.821)}"
   ]
  },
  {
   "cell_type": "markdown",
   "metadata": {},
   "source": [
    "## 6.3. Define experiments\n",
    "Experiments are defined as dictionaries where process parameters are given\n",
    "as values for the following keys:  \n",
    "  * tag - experiment identifier (string, e.g. \"Filter 1\")  \n",
    "  * mark - marker colour and type (string, e.g. \"ro-\", \"gs--\")  \n",
    "  * temp - air temperature in K (float, e.g. 20 + 273.15)  \n",
    "  * pres - air pressure in Pa (float, e.g. 101325)  \n",
    "  * velo - gas velocity in m/s (float, e.g. 0.1)  \n",
    "  * fibr - filter mean fibres diameter in m (float, e.g. 1 * 10**-6)  \n",
    "  * pack - filter packing density (float, e.g. 0.05)\n",
    "  * thick - filter thicksness in m (float, e.g. 1 * 10**-3)"
   ]
  },
  {
   "cell_type": "code",
   "execution_count": 19,
   "metadata": {},
   "outputs": [],
   "source": [
    "exp1 = {\"tag\" : \"spherical\",\n",
    "        \"mark\" : \"ko:\",\n",
    "        \"temp\" : 23 + 273.15,\n",
    "        \"pres\" : 101010,\n",
    "        \"velo\" : 0.078,\n",
    "        \"fibr\" : 0.35 * 10**-6,\n",
    "        \"pack\" : 0.0018,\n",
    "        \"thic\" : 1 * 10**-3,\n",
    "        \"size\" : particles_liquid,\n",
    "        \"shape\" : particles_morph_spherical}\n",
    "\n",
    "exp2 = {\"tag\" : \"agglomerates\",\n",
    "        \"mark\" : \"C7d--\",\n",
    "        \"temp\" : 23 + 273.15,\n",
    "        \"pres\" : 101010,\n",
    "        \"velo\" : 0.078,\n",
    "        \"fibr\" : 0.35 * 10**-6,\n",
    "        \"pack\" : 0.0018,\n",
    "        \"thic\" : 1 * 10**-3,\n",
    "        \"size\" : particles_solid,\n",
    "        \"shape\" : particles_morph_agglomerates}\n",
    "\n",
    "experiments = [exp1, exp2]"
   ]
  },
  {
   "cell_type": "markdown",
   "metadata": {},
   "source": [
    "## 6.4. Save figure"
   ]
  },
  {
   "cell_type": "code",
   "execution_count": 20,
   "metadata": {},
   "outputs": [],
   "source": [
    "save_figure = True\n",
    "figure_name = \"filtration_model_agglomerates.png\"\n",
    "legend_location = \"upper right\""
   ]
  },
  {
   "cell_type": "markdown",
   "metadata": {},
   "source": [
    "## 6.5. Calculations"
   ]
  },
  {
   "cell_type": "code",
   "execution_count": 21,
   "metadata": {
    "scrolled": false
   },
   "outputs": [
    {
     "name": "stdout",
     "output_type": "stream",
     "text": [
      "spherical\n",
      "15 nm : 97.42%\n",
      "20 nm : 95.48%\n",
      "30 nm : 90.64%\n",
      "45 nm : 83.18%\n",
      "70 nm : 74.11%\n",
      "100 nm : 68.78%\n",
      "150 nm : 67.42%\n",
      "250 nm : 73.8%\n",
      "\n",
      "agglomerates\n",
      "20 nm : 95.85%\n",
      "30 nm : 92.68%\n",
      "45 nm : 89.75%\n",
      "70 nm : 91.78%\n",
      "100 nm : 93.76%\n",
      "\n"
     ]
    },
    {
     "data": {
      "image/png": "[encoded data removed]",
      "text/plain": [
       "<Figure size 1080x1080 with 1 Axes>"
      ]
     },
     "metadata": {
      "needs_background": "light"
     },
     "output_type": "display_data"
    }
   ],
   "source": [
    "plt.rcParams[\"figure.figsize\"] = 15,15\n",
    "plt.tick_params(axis=\"both\", which=\"both\", labelsize = label_font - 4)\n",
    "plt.gca().set_xscale(\"log\")\n",
    "plt.xlabel(\"Particle size (nm)\", fontsize = label_font)\n",
    "plt.ylabel(\"Fractional efficiency (%)\", fontsize = label_font)\n",
    "plt.axis([10, 300, 65, 100])\n",
    "plt.xticks([10, 20, 30, 40, 50, 60, 70, 80, 90, 100, 200, 300],\n",
    "           labels = [10, 20, 30, 40, 50, 60, 70, 80, 90, 100, 200, 300],\n",
    "           rotation = 70)\n",
    "\n",
    "for experiment in experiments:\n",
    "    efficiencies = []\n",
    "    \n",
    "    for size in experiment[\"size\"]:\n",
    "        efficiencies.append(efficiency(experiment[\"temp\"], experiment[\"pres\"], size * 10**-9,\n",
    "                                       experiment[\"fibr\"], experiment[\"velo\"],\n",
    "                                       experiment[\"pack\"], experiment[\"thic\"],\n",
    "                                       experiment[\"shape\"][size]) * 100)\n",
    "\n",
    "    plt.plot(experiment[\"size\"], efficiencies, experiment[\"mark\"], linewidth = line_width,\n",
    "             markersize = marker_size, label=experiment[\"tag\"])\n",
    "    \n",
    "    print(experiment[\"tag\"])\n",
    "    for i in range(len(experiment[\"size\"])):\n",
    "        print(str(experiment[\"size\"][i]) + \" nm : \" + str(round(efficiencies[i], 2)) + \"%\")\n",
    "    print()\n",
    "\n",
    "plt.legend(loc = legend_location, fontsize = label_font - 4)\n",
    "if save_figure:\n",
    "    plt.savefig(figure_name)\n",
    "plt.show()"
   ]
  }
 ],
 "metadata": {
  "kernelspec": {
   "display_name": "Python 3",
   "language": "python",
   "name": "python3"
  },
  "language_info": {
   "codemirror_mode": {
    "name": "ipython",
    "version": 3
   },
   "file_extension": ".py",
   "mimetype": "text/x-python",
   "name": "python",
   "nbconvert_exporter": "python",
   "pygments_lexer": "ipython3",
   "version": "3.7.3"
  }
 },
 "nbformat": 4,
 "nbformat_minor": 2
}
